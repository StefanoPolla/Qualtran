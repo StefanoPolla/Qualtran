{
 "cells": [
  {
   "cell_type": "code",
   "execution_count": 1,
   "id": "74f108eb-0fa2-477a-a4de-f964b5440807",
   "metadata": {},
   "outputs": [],
   "source": [
    "from typing import List, Dict, Set\n",
    "import attrs\n",
    "import sympy\n",
    "\n",
    "import qualtran.testing as qlt_testing\n",
    "from qualtran import (\n",
    "    Bloq, BloqBuilder,\n",
    "    QBit, QAny, QInt, QUInt,\n",
    "    Register, Side, Signature,\n",
    ")\n",
    "\n",
    "from qualtran.resource_counting import BloqCountT, SympySymbolAllocator\n",
    "from qualtran.symbolics import SymbolicInt\n",
    "from qualtran.drawing import show_bloq, show_call_graph\n",
    "from qualtran.simulation.classical_sim import ClassicalValT\n",
    "from qualtran.bloqs.factoring import CtrlModMul\n",
    "import numpy as np"
   ]
  },
  {
   "cell_type": "code",
   "execution_count": 20,
   "id": "840a88cd-c1de-42ed-a109-3a79dc9f3a98",
   "metadata": {},
   "outputs": [],
   "source": [
    "@attrs.frozen\n",
    "class ModExp(Bloq):\n",
    "    \"\"\"Perform modular exponentiation `x = g^exponent mod p`.\n",
    "\n",
    "    x and exponent are quantum variables; g and the modulus are classical constants.\n",
    "\n",
    "    The exponent register has `n_exponent` bits.\n",
    "\n",
    "    For simplicity, let's assume\n",
    "        - a 32-bit \"x\" register.\n",
    "    \"\"\"\n",
    "\n",
    "    g: int\n",
    "    mod: int\n",
    "    n_exponent: SymbolicInt = 4\n",
    "    n_x: int = 32\n",
    "\n",
    "    @property\n",
    "    def signature(self) -> \"Signature\":\n",
    "        return Signature(\n",
    "            [\n",
    "                Register(\"exponent\", QUInt(bitsize=self.n_exponent)),\n",
    "                Register(\"x\", QUInt(bitsize=self.n_x), side=Side.RIGHT),\n",
    "            ]\n",
    "        )\n",
    "\n",
    "    def build_composite_bloq(self, bb: \"BloqBuilder\", exponent):\n",
    "        # Use `bb.add(subbloq, arg=val, arg=val)` to \"wire up\" a circuit for modular exponentiation.\n",
    "        # The system will pass in a quantum variable, `exponent` that can be split into bits,\n",
    "        # passed into subbloqs, and returned as output variables.\n",
    "        #\n",
    "        # Algorithm steps:\n",
    "        #  1. initialize the output register in the |1> state\n",
    "        #  2. Use each bit of the exponent register to control a CtrlModMul operation, where\n",
    "        #     the multiplicative constant is g^2^j for bit index j\n",
    "        #  3. Return the exponent and x register in accordance with this bloq's signature.\n",
    "\n",
    "        # Hints:\n",
    "        from qualtran.bloqs.basic_gates import IntState\n",
    "\n",
    "        # https://qualtran.readthedocs.io/en/latest/bloqs/basic_gates/states_and_effects.html#intstate\n",
    "        from qualtran.bloqs.factoring import CtrlModMul\n",
    "\n",
    "        # https://qualtran.readthedocs.io/en/latest/bloqs/factoring/mod_mul.html\n",
    "        from qualtran.bloqs.bookkeeping import Split, Join\n",
    "        # or, `soqs = bb.split(soq)` and `soq = bb.join(soqs, dtype)`\n",
    "\n",
    "        # 1. initialize the output register in the |1> state\n",
    "        x = bb.add(IntState(1, bitsize=self.n_x))\n",
    "\n",
    "        # 2. Use each bit of the exponent register to control a CtrlModMul operation, where\n",
    "        #    the multiplicative constant is g^2^j for bit index j\n",
    "        exponent_bits_in = bb.split(exponent)\n",
    "        exponent_bits_out = []\n",
    "        k = self.g\n",
    "        for j, bit in enumerate(exponent_bits_in):\n",
    "            bit_out, x = bb.add(CtrlModMul(k=k, mod=self.mod, bitsize=self.n_x), **{'ctrl': bit, 'x': x})\n",
    "            exponent_bits_out.append(bit_out)\n",
    "            k = (k * k) % self.mod\n",
    "        exponent = bb.join(np.array(exponent_bits_out), QUInt(bitsize=self.n_exponent))\n",
    "\n",
    "        # 3. Return the exponent and x register in accordance with this bloq's signature.\n",
    "        return {\"exponent\": exponent, \"x\": x}\n",
    "\n",
    "    def on_classical_vals(\n",
    "        self,\n",
    "        exponent: \"ClassicalValT\",\n",
    "    ) -> Dict[str, \"ClassicalValT\"]:\n",
    "        return {\"exponent\": exponent, \"x\": (self.g**exponent) % self.mod}\n",
    "\n",
    "    def build_call_graph(self, ssa: \"SympySymbolAllocator\") -> Set[\"BloqCountT\"]:\n",
    "        k = ssa.new_symbol(\"k\")\n",
    "        return {(CtrlModMul(k=k, mod=self.mod, bitsize=32), self.n_exponent)}"
   ]
  },
  {
   "cell_type": "code",
   "execution_count": 21,
   "id": "625f1c10",
   "metadata": {},
   "outputs": [],
   "source": [
    "from qualtran.drawing import show_bloq"
   ]
  },
  {
   "cell_type": "code",
   "execution_count": 22,
   "id": "324cbfd2-b3af-4440-8597-34988a04cb86",
   "metadata": {},
   "outputs": [],
   "source": [
    "mod_exp = ModExp(g=2, mod=15)\n",
    "mod_exp_decomp = qlt_testing.assert_valid_bloq_decomposition(mod_exp)"
   ]
  },
  {
   "cell_type": "code",
   "execution_count": 23,
   "id": "f364b88f-25c0-4392-8550-0ec86557921d",
   "metadata": {},
   "outputs": [
    {
     "name": "stdout",
     "output_type": "stream",
     "text": [
      "ref (0, 1) decomp (0, 1)\n"
     ]
    },
    {
     "ename": "AssertionError",
     "evalue": "",
     "output_type": "error",
     "traceback": [
      "\u001b[0;31m---------------------------------------------------------------------------\u001b[0m",
      "\u001b[0;31mAssertionError\u001b[0m                            Traceback (most recent call last)",
      "Cell \u001b[0;32mIn[23], line 6\u001b[0m\n\u001b[1;32m      4\u001b[0m ref_out \u001b[38;5;241m=\u001b[39m mod_exp\u001b[38;5;241m.\u001b[39mcall_classically(exponent\u001b[38;5;241m=\u001b[39mexponent)\n\u001b[1;32m      5\u001b[0m decomp_out \u001b[38;5;241m=\u001b[39m mod_exp_decomp\u001b[38;5;241m.\u001b[39mcall_classically(exponent\u001b[38;5;241m=\u001b[39mexponent)\n\u001b[0;32m----> 6\u001b[0m \u001b[38;5;28;01massert\u001b[39;00m ref_out \u001b[38;5;241m==\u001b[39m decomp_out\n\u001b[1;32m      7\u001b[0m \u001b[38;5;28mprint\u001b[39m(\u001b[38;5;124m'\u001b[39m\u001b[38;5;124mref\u001b[39m\u001b[38;5;124m'\u001b[39m, ref_out, \u001b[38;5;124m'\u001b[39m\u001b[38;5;124mdecomp\u001b[39m\u001b[38;5;124m'\u001b[39m, decomp_out)\n",
      "\u001b[0;31mAssertionError\u001b[0m: "
     ]
    }
   ],
   "source": [
    "mod_exp = ModExp(g=2, mod=15)\n",
    "mod_exp_decomp = mod_exp.decompose_bloq()\n",
    "for exponent in range(10):\n",
    "    ref_out = mod_exp.call_classically(exponent=exponent)\n",
    "    decomp_out = mod_exp_decomp.call_classically(exponent=exponent)\n",
    "    assert ref_out == decomp_out\n",
    "    print('ref', ref_out, 'decomp', decomp_out)"
   ]
  },
  {
   "cell_type": "code",
   "execution_count": 24,
   "id": "9df27428",
   "metadata": {},
   "outputs": [
    {
     "data": {
      "text/plain": [
       "(1, 2)"
      ]
     },
     "execution_count": 24,
     "metadata": {},
     "output_type": "execute_result"
    }
   ],
   "source": [
    "ref_out"
   ]
  },
  {
   "cell_type": "code",
   "execution_count": 25,
   "id": "608ebe9c",
   "metadata": {},
   "outputs": [
    {
     "data": {
      "text/plain": [
       "(1, 1)"
      ]
     },
     "execution_count": 25,
     "metadata": {},
     "output_type": "execute_result"
    }
   ],
   "source": [
    "decomp_out"
   ]
  }
 ],
 "metadata": {
  "kernelspec": {
   "display_name": "Python 3 (ipykernel)",
   "language": "python",
   "name": "python3"
  },
  "language_info": {
   "codemirror_mode": {
    "name": "ipython",
    "version": 3
   },
   "file_extension": ".py",
   "mimetype": "text/x-python",
   "name": "python",
   "nbconvert_exporter": "python",
   "pygments_lexer": "ipython3",
   "version": "3.10.14"
  }
 },
 "nbformat": 4,
 "nbformat_minor": 5
}
