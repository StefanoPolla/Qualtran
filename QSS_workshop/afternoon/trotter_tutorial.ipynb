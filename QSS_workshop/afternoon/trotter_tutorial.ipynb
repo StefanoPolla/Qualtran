{
  "cells": [
    {
      "cell_type": "code",
      "execution_count": null,
      "metadata": {
        "id": "fNG6wkEcoA4a"
      },
      "outputs": [],
      "source": [
        "!pip install qualtran --quiet"
      ]
    },
    {
      "cell_type": "markdown",
      "metadata": {
        "id": "X1Qu1zJ6TppM"
      },
      "source": [
        "# Optimizing T Counts Given an Error Budget"
      ]
    },
    {
      "cell_type": "markdown",
      "metadata": {
        "id": "MifjXwVdTppR"
      },
      "source": [
        "Quantum algorithms typically only allow us to estimate properties to within some additive error $\\epsilon$. Oftentimes this error is made up of multiple sources. For example, trotterized quantum phase estimation introduces at least three sources of error [[1]](https://arxiv.org/abs/1902.10673): Trotter errors ($\\Delta_{TS}$) which arise from approximately representing the time evolution operator as a product of time evolution operators, circuit synthesis errors ($\\Delta_{HT}$) arising from synthesising single-qubit rotations to a given precision, and phase estimation errors ($\\Delta_{PE}$). Given an allowable error $\\epsilon$ for our algorithm (the error budget), we can try to minimize the cost of phase estimation subject to the constraint that $\\epsilon \\ge \\Delta_{TS} + \\Delta_{HT} + \\Delta_{PE}$."
      ]
    },
    {
      "cell_type": "markdown",
      "metadata": {
        "id": "3ag61hTGTppW"
      },
      "source": [
        "In this tutorial we will use qualtran to produce an expression for the symbolic T cost of Trotterization which can then be optimized subject to this constraint. We will focus on a simplified version of the analysis given in [Early fault-tolerant simulations of the Hubbard model](https://arxiv.org/abs/2012.09238). To do so we will:\n",
        "\n",
        "1. Define high level bloqs which implement the unitaries necessary for the trotter decomposition. The goal here is just to capture costs.\n",
        "2. Define a bloq which implements the trotterized unitary using Step 1.\n",
        "3. Define a phase estimation bloq which accepts your unitary.\n",
        "4. Produce a symbolic cost estimate in terms of these errors and the system parameters ($L$).  \n",
        "5. (Optional) Numerically optimize the T-counts"
      ]
    },
    {
      "cell_type": "markdown",
      "metadata": {
        "id": "sRuY_1N1TppX"
      },
      "source": [
        "## 1. Hubbard Model Trotter Bloqs\n",
        "\n",
        "The Hubbard model is given as\n",
        "\n",
        "$$\n",
        "    H = H_I + H_h\n",
        "$$\n",
        "where\n",
        "$H_I$\n",
        "$$\n",
        "H_I = U \\sum_i n_{i\\uparrow}n_{i\\downarrow}\n",
        "$$\n",
        "and\n",
        "$$\n",
        "H_h = -\\tau \\sum_\\sigma \\sum_{\\langle i, j\\rangle} a_{i\\sigma}^\\dagger a_{i\\sigma} + \\mathrm{h.c.}\n",
        "$$\n",
        "where $a_{i\\sigma}^\\dagger a_{i\\sigma}$ is a fermionic creation (annihilation) operator, $\\tau$ and $U$ are the hopping and Hubbard $U$ parameter respectively, and the sum $\\langle i, j\\rangle$ is over nearest neighbours.\n",
        "\n",
        "Following [the reference](https://arxiv.org/abs/1902.10673), we will further write\n",
        "\n",
        "$$\n",
        "H_h = H_h^p + H_h^g\n",
        "$$\n",
        "\n",
        "as a sum over \"pink\" and \"gold\" plaquettes (these are just alternating square patches, the union of which tiles the 2D lattice). The details do not matter much here, but using this Hamiltonian one arrives at the Strang splitting Trotter formula\n",
        "\n",
        "$$\n",
        "U = e^{-i t H} \\approx e^{-it/2 H_I} e^{-it/2 H_h^p} e^{-it H_h^g} e^{i t/2 H_h^p} e^{-it H_h}.\n",
        "$$\n",
        "\n",
        "Your first task is to write the bloqs defining $U_I=e^{-it H_I}$ and $U_h = e^{-it H_h^{p/g}}$. In this tutorial we are only really interested in costs so you don't need to worry about the details of how you might implement the decompositions.\n"
      ]
    },
    {
      "cell_type": "code",
      "execution_count": null,
      "metadata": {
        "id": "BdtP7F4iupaX"
      },
      "outputs": [],
      "source": [
        "import attrs\n",
        "import sympy\n",
        "from functools import cached_property\n",
        "from typing import Set, Dict, Tuple\n",
        "\n",
        "from qualtran import Bloq, QAny, QBit, Register, Signature, BloqBuilder, SoquetT\n",
        "from qualtran.symbolics import SymbolicFloat, SymbolicInt\n",
        "from qualtran.resource_counting import BloqCountT, SympySymbolAllocator"
      ]
    },
    {
      "cell_type": "code",
      "execution_count": null,
      "metadata": {
        "id": "C2DGrqBBt1hm"
      },
      "outputs": [],
      "source": [
        "# TODO: import the relevant gates you need (hint rotations, t_gate)\n",
        "\n",
        "@attrs.frozen\n",
        "class HubbardHopping(Bloq):\n",
        "    r\"\"\"Bloq implementing the one-body hopping unitary.\n",
        "\n",
        "    Args:\n",
        "        length: Lattice side length L.\n",
        "        angle: The prefactor scaling the Hopping hamiltonian in the unitary (`t` above).\n",
        "            This should contain any relevant prefactors including the time step\n",
        "            and any splitting coefficients.\n",
        "        hubb_t: The Hopping hamiltonian parameter. Typically the hubbard model is\n",
        "            defined relative to $t$ so it's defaulted to 1.\n",
        "        eps: The precision of the single qubit rotations.\n",
        "        pink: Whether the bloq is for the pink or gold plaquettes. This is sort of irrelevant\n",
        "            for this tutorial but a real implementation would need to know this.\n",
        "\n",
        "\n",
        "    Registers:\n",
        "       system: The system register of size 2 `length`. 2 is for spin.\n",
        "\n",
        "    References:\n",
        "        [Early fault-tolerant simulations of the Hubbard model](https://arxiv.org/abs/2012.09238)\n",
        "            see Eq. 21 and App E.\n",
        "    \"\"\"\n",
        "\n",
        "    length: SymbolicInt\n",
        "    angle: SymbolicFloat\n",
        "    hubb_t: SymbolicFloat\n",
        "    eps: SymbolicFloat\n",
        "    pink: bool = True\n",
        "\n",
        "    @cached_property\n",
        "    def signature(self) -> Signature:\n",
        "        return Signature([Register('system', QAny(self.length), shape=(2,))])\n",
        "\n",
        "    def __str__(self) -> str:\n",
        "        pink_or_gold = 'p' if self.pink else 'g'\n",
        "        return f'U_h^{pink_or_gold}'\n",
        "\n",
        "    def build_call_graph(self, ssa: 'SympySymbolAllocator') -> Set['BloqCountT']:\n",
        "        # TODO: Return bloq counts\n",
        "        # From page 14 of the reference, end of first paragraph:\n",
        "        # For each hopping plaquette there are 2 arbitrary RZ rotations and 8 T gates\n",
        "        # There are L^2 / 2 plaquettes of each colour when spin is accounted for.\n",
        "        # Thus the cost should be 4 L^2 T gates and L^2 Rz rotations\n",
        "        # The angle for the Rz rotation is just 2 * self.t * self.angle, with\n",
        "        # the 2 accounting for the definition of the Rz gate.\n"
      ]
    },
    {
      "cell_type": "code",
      "execution_count": null,
      "metadata": {
        "id": "teo9qvmCGxe1"
      },
      "outputs": [],
      "source": [
        "@attrs.frozen\n",
        "class HubbardInteraction(Bloq):\n",
        "    r\"\"\"Bloq implementing the Hubbard U unitary.\n",
        "\n",
        "    Args:\n",
        "        length: Lattice side length L.\n",
        "        angle: The prefactor scaling the Hopping hamiltonian in the unitary (`t` above).\n",
        "            This should contain any relevant prefactors including the time step\n",
        "            and any splitting coefficients.\n",
        "        hubb_u: The hubbard U parameter.\n",
        "        eps: The precision of the single qubit rotations.\n",
        "\n",
        "\n",
        "    Registers:\n",
        "       system: The system register of size 2 `length`.\n",
        "\n",
        "    References:\n",
        "        [Early fault-tolerant simulations of the Hubbard model](https://arxiv.org/abs/2012.09238)\n",
        "    \"\"\"\n",
        "\n",
        "    length: SymbolicInt\n",
        "    angle: SymbolicFloat\n",
        "    hubb_u: SymbolicFloat\n",
        "    eps: SymbolicFloat\n",
        "\n",
        "    @cached_property\n",
        "    def signature(self) -> Signature:\n",
        "        return Signature([Register('system', QAny(self.length), shape=(2,))])\n",
        "\n",
        "    def __str__(self) -> str:\n",
        "        return 'U_I'\n",
        "\n",
        "    def build_call_graph(self, ssa: 'SympySymbolAllocator') -> Set['BloqCountT']:\n",
        "        # From page 13 of the reference, end of first paragraph right column:\n",
        "        # There are L^2 single qubit rotations\n",
        "        # TODO: Return bloq counts"
      ]
    },
    {
      "cell_type": "markdown",
      "metadata": {
        "id": "5BAFMIAhBx4H"
      },
      "source": [
        "## 2. Implement a Trotter step\n",
        "\n",
        "Next we will write a bloq to implement a single trotter step"
      ]
    },
    {
      "cell_type": "code",
      "execution_count": null,
      "metadata": {
        "id": "h_B7wQD3Bx4H"
      },
      "outputs": [],
      "source": [
        "@attrs.frozen\n",
        "class TrotterStep(Bloq):\n",
        "    r\"\"\"Bloq implementing a single Trotter step for the plaq Hubbard Hamiltonian.\n",
        "\n",
        "    Builds\n",
        "\n",
        "    $$\n",
        "        U \\approx e^{-it/2 H_I} e^{-it/2 H_h^p} e^{-it H_h^g} e^{i t/2 H_h^p} e^{-it/2 H_I} (*)\n",
        "    $$\n",
        "\n",
        "    Args:\n",
        "        hubb_h: The Hubbard model hopping unitary.\n",
        "        hubb_i: The Hubbard model interaction unitary.\n",
        "        timestep: The timestep $t$.\n",
        "\n",
        "    Registers:\n",
        "       system: The system register of size 2 `length`.\n",
        "\n",
        "    References:\n",
        "        [Early fault-tolerant simulations of the Hubbard model](https://arxiv.org/abs/2012.09238)\n",
        "    \"\"\"\n",
        "    hubb_h: HubbardHopping\n",
        "    hubb_i: HubbardInteraction\n",
        "    timestep: SymbolicFloat\n",
        "\n",
        "    @cached_property\n",
        "    def signature(self) -> Signature:\n",
        "        return Signature([Register('system', QAny(self.hubb_h.length), shape=(2,))])\n",
        "\n",
        "    def __str__(self) -> str:\n",
        "        return f'U(H_H)'\n",
        "\n",
        "    def build_composite_bloq(self, bb: 'BloqBuilder', **soqs: SoquetT) -> Dict[str, 'SoquetT']:\n",
        "        # TODO: Wire up the bloq\n",
        "        # Given your implementations of the Hubbard U unitary and hopping unitaries construct the bloq implementing\n",
        "        # (*) from the docstring\n",
        "        # e.g.\n",
        "        # There is a factor of two in the angle due to the definition of the Rz(a) = e^{-i a Z t / 2}"
      ]
    },
    {
      "cell_type": "markdown",
      "metadata": {
        "id": "Ft6hIgxyBx4H"
      },
      "source": [
        "## 3. Determine the Trotter step cost\n",
        "\n",
        "Given your implementation of $U$ we can now assess the costs. First define the relevant symbols:"
      ]
    },
    {
      "cell_type": "code",
      "execution_count": null,
      "metadata": {
        "id": "-3PJtQJMTppg"
      },
      "outputs": [],
      "source": [
        "eps_r, length, hubb_u, timestep, hubb_t = sympy.symbols(r'\\epsilon_{R}, L, u, t, \\tau')\n",
        "delta_ht, delta_ts, delta_pe, p, xi = sympy.symbols(\n",
        "    '\\Delta_{HT}, \\Delta_{TS}, \\Delta_{PE} p, xi'\n",
        ")"
      ]
    },
    {
      "cell_type": "code",
      "execution_count": null,
      "metadata": {
        "id": "-FvmlW27Bx4H"
      },
      "outputs": [],
      "source": [
        "from qualtran.drawing import show_bloq, show_call_graph\n",
        "# TODO: Instantiate your trotter step with the appropriate sympy variables\n",
        "# TODO: Visualize it to make sure it looks correct\n",
        "# trotter_step = ...\n",
        "# show_bloq(trotter_step)\n",
        "# show_call_graph(trotter_step)"
      ]
    },
    {
      "cell_type": "markdown",
      "metadata": {
        "id": "vuOLYN3MBx4I"
      },
      "source": [
        "Next we will replace some variables ($\\epsilon_R$) and $t$. For details see the appendix of this tutorial."
      ]
    },
    {
      "cell_type": "code",
      "execution_count": null,
      "metadata": {
        "id": "HR0a9wfwTppg"
      },
      "outputs": [],
      "source": [
        "from qualtran.resource_counting.t_counts_from_sigma import t_counts_from_sigma\n",
        "from qualtran.bloqs.basic_gates import Rz\n",
        "from qualtran.resource_counting.generalizers import PHI\n",
        "\n",
        "\n",
        "def catch_rotations(bloq) -> Bloq:\n",
        "    \"\"\"Generalizer to catch rotations.\"\"\"\n",
        "    if isinstance(bloq, Rz):\n",
        "        return Rz(angle=PHI, eps=bloq.eps)\n",
        "    return bloq\n",
        "\n",
        "def t_and_rot_counts(bloq: Bloq) -> Tuple[SymbolicInt, SymbolicInt]:\n",
        "    _, sigma = bloq.call_graph(generalizer=catch_rotations)\n",
        "    # TODO: compute (hint: get) the number of TGates\n",
        "    # t_count = ...\n",
        "    # n_rot = ...\n",
        "    return t_count, n_rot\n",
        "\n",
        "# TODO: uncomment to compute the number of T gates and the number of rotations in a Trotter step\n",
        "# n_t, n_rot = t_and_rot_counts(trotter_step)\n",
        "# see appendicies of tutorial for details\n",
        "timestep = (delta_ts / xi) ** (1/p)\n",
        "eps_r = delta_ht * timestep / n_rot"
      ]
    },
    {
      "cell_type": "markdown",
      "metadata": {
        "id": "O87wb63UBx4I"
      },
      "source": [
        "Finally compute the total T count in terms of the free parameters $\\Delta_{TS}$ and $\\Delta_{HT}$ and compare to the quoted result above."
      ]
    },
    {
      "cell_type": "code",
      "execution_count": null,
      "metadata": {
        "id": "FmWrAakgBx4I"
      },
      "outputs": [],
      "source": [
        "hubb_h = HubbardHopping(length, 0.5 * timestep, hubb_t, eps_r)\n",
        "hubb_i = HubbardInteraction(length, 0.5 * timestep, hubb_u, eps_r)\n",
        "trotter_step = TrotterStep(hubb_h, hubb_i, timestep)\n",
        "t_counts = t_counts_from_sigma(trotter_step.call_graph(generalizer=catch_rotations)[1])\n",
        "t_counts"
      ]
    },
    {
      "cell_type": "markdown",
      "metadata": {
        "id": "PSy76tnyBx4I"
      },
      "source": [
        "## 4. Add a simple phase estimation bloq"
      ]
    },
    {
      "cell_type": "code",
      "execution_count": null,
      "metadata": {
        "id": "FCswNBdhBx4I"
      },
      "outputs": [],
      "source": [
        "from qualtran.symbolics import pi, ceil\n",
        "\n",
        "@attrs.frozen\n",
        "class AdaptivePhaseEstimation(Bloq):\n",
        "    r\"\"\"Bloq implementing adaptive phase estimation given a unitary $U$\n",
        "\n",
        "    Args:\n",
        "        unitary: Bloq implementing the unitary to perform phase estimation on.\n",
        "\n",
        "    Registers:\n",
        "       system: The system register of size 2 `length`.\n",
        "\n",
        "    References:\n",
        "        [Improved Fault-Tolerant Quantum Simulation of Condensed-Phase Correlated Electrons via Trotterization](https://quantum-journal.org/papers/q-2020-07-16-296/)\n",
        "            page 8, bullet 2\n",
        "    \"\"\"\n",
        "    unitary: TrotterStep\n",
        "    timestep: SymbolicFloat\n",
        "    eps: SymbolicFloat\n",
        "\n",
        "    @cached_property\n",
        "    def signature(self) -> Signature:\n",
        "        return Signature([Register('control', QBit(), 'system', QAny(self.hubb_h.length), shape=(2,))])\n",
        "\n",
        "    def __str__(self) -> str:\n",
        "        return f'A-QPE'\n",
        "\n",
        "    @cached_property\n",
        "    def num_circuit_applications(self) -> SymbolicInt:\n",
        "        # TODO: write this function\n",
        "        # See https://arxiv.org/abs/1902.10673 page 8 Eq 9: N_PE = 0.76 pi / (eps * t)\n",
        "\n",
        "    def build_call_graph(self, ssa: 'SympySymbolAllocator') -> Set['BloqCountT']:\n",
        "        # TODO: Return the appropraite bloq counts\n",
        "        return {(self.unitary, self.num_circuit_applications)}\n"
      ]
    },
    {
      "cell_type": "code",
      "execution_count": null,
      "metadata": {
        "id": "Q02U5O-ZBx4I"
      },
      "outputs": [],
      "source": [
        "phase_estimate = AdaptivePhaseEstimation(trotter_step, timestep, delta_pe)\n",
        "t_counts_pe = t_counts_from_sigma(phase_estimate.call_graph(generalizer=catch_rotations)[1])\n",
        "t_counts_pe"
      ]
    },
    {
      "cell_type": "markdown",
      "metadata": {
        "id": "CWtsxmsRBx4I"
      },
      "source": [
        "## 5. (Optional) Optimize the T counts\n",
        "\n",
        "Now that we have determined a value for the t_counts in terms of the free parameters we can try to optimize the T counts subject to the constraint that $\\Delta_{TS} + \\Delta_{HT} + \\Delta_{PE} < \\epsilon$"
      ]
    },
    {
      "cell_type": "code",
      "execution_count": null,
      "metadata": {
        "id": "7YB9CZdQBx4I"
      },
      "outputs": [],
      "source": [
        "# From Ref table 1.\n",
        "# Target error from Reference\n",
        "L = 8\n",
        "epsilon = 0.0051 * L**2\n",
        "prod_ord = 2\n",
        "hubb_u = 4\n",
        "xi_bound = 5.3e2\n",
        "def eval_t_counts(delta_ht_val: float, delta_ts_val: float, delta_pe_val: float) -> float:\n",
        "    \"\"\"Evaluate the \"\"\"\n",
        "    return t_counts_pe.evalf(subs={length: L, delta_ts: delta_ts_val, delta_ht: delta_ht_val, xi: xi_bound, p: prod_ord, delta_pe: delta_pe_val})"
      ]
    },
    {
      "cell_type": "code",
      "source": [
        "# TODO: Write some code to optimize the t_counts given the constraint. It's helpful to visualize the function along the line epsilon = delta_pe + delta_ht + delta_ts."
      ],
      "metadata": {
        "id": "63FoDDcJFjLU"
      },
      "execution_count": null,
      "outputs": []
    },
    {
      "cell_type": "markdown",
      "source": [
        "See [the qualtran example](https://github.com/quantumlib/Qualtran/blob/main/) for inspiration."
      ],
      "metadata": {
        "id": "zE_wpS8nFzW2"
      }
    },
    {
      "cell_type": "markdown",
      "metadata": {
        "id": "AEp8eDcyBx4J"
      },
      "source": [
        "# Conclusions\n",
        "\n",
        "It's relatively simple to build up high level algorithms in qualtran and arive at non-trivial expressions for costs in terms of free parameters of the problem. Further optimizations include merging neighbouring unitaries when repeatedly applying the Trotter circuit, and using Hamming weight phasing."
      ]
    },
    {
      "cell_type": "markdown",
      "metadata": {
        "id": "GVBqgMMLBx4J"
      },
      "source": [
        "# Appendices"
      ]
    },
    {
      "cell_type": "markdown",
      "metadata": {
        "id": "kR4SSJjnBx4J"
      },
      "source": [
        "###  Appendix 1. Trotter Errors\n",
        "\n",
        "Given a $p$-th order product formula $S_p(t)$ for the unitary implementing $e^{-i t H}$ we have that\n",
        "$$\n",
        "\\Delta_U \\equiv \\lVert S_p(t) - e^{-i t H}\\rVert_{W_\\eta} = \\xi(\\eta, u, \\tau) t^{p+1}\n",
        "$$\n",
        "for some constant $\\xi$ which depends on the parameters of the system. The constant $\\xi$ can be either computed (through direct evaluation and extrapolating from small system sizes) or bounded using complicated commutator expressions.\n",
        "\n",
        "Ref. [[1]](https://arxiv.org/abs/1902.10673) showed that\n",
        "\n",
        "$$\n",
        "\\Delta_{TS} t \\equiv |E - E_{TS}|t \\le \\arctan\\left(\\Delta_U \\frac{\\sqrt{4-\\Delta_U^2}}{2-\\Delta_U^2}\\right) = \\Delta_U + \\frac{\\Delta_U^3}{24} + \\mathcal{O}(\\Delta_U^5),\n",
        "$$\n",
        "so that as long as $\\Delta_U \\gg \\frac{\\Delta_U^3}{24}$ we can estimate\n",
        "\n",
        "$$\n",
        "\\Delta_{TS} = \\Delta_U / t \\approx \\xi(\\eta, u, \\tau) t^{p}\n",
        "$$"
      ]
    },
    {
      "cell_type": "markdown",
      "metadata": {
        "id": "Mtgo1RDlBx4J"
      },
      "source": [
        "### 2. Circuit Synthesis Errors\n",
        "\n",
        "Circuit synthesis errors account for the approximate implementation of single qubit $R_z(\\theta)$ rotations when compiled to  Clifford+$T$ gates. A single qubit rotation gate can be synthesized to $\\epsilon_R$ error using\n",
        "$$\n",
        "T_\\mathrm{synth} \\approx 1.15 \\log_2(1/\\epsilon_R) + 9.2\n",
        "$$\n",
        "$T$ gates. Assuming ([see Appendix D corollary 1](https://arxiv.org/pdf/1605.03590)) these errors add at most linearly to the estimated phase then the cost is\n",
        "\n",
        "$$\n",
        "N_{HT} = 1.15 \\log_2 \\left(\\frac{N_R}{\\Delta_{HT} t}\\right) + 9.2\n",
        "$$\n",
        "$T$ gates per single qubit rotation, where $N_R$ is the number of rotations per Trotter step."
      ]
    },
    {
      "cell_type": "markdown",
      "metadata": {
        "id": "gTuJhs7FBx4J"
      },
      "source": [
        "### 3. QPE Errors\n",
        "\n",
        "Phase estimation errors $\\Delta_{PE}$ arise due to not computing enough bits of the phase. Adaptive phase estimation allows one to reach a RMS error of $\\Delta_{PE} t$ using\n",
        "\n",
        "$$\n",
        "N_{PE} \\approx \\frac{0.76 \\pi}{\\Delta_{PE} t}\n",
        "$$\n",
        "repetitions of the simulation circuit."
      ]
    }
  ],
  "metadata": {
    "colab": {
      "provenance": []
    },
    "kernelspec": {
      "display_name": "qualtran",
      "language": "python",
      "name": "python3"
    },
    "language_info": {
      "codemirror_mode": {
        "name": "ipython",
        "version": 3
      },
      "file_extension": ".py",
      "mimetype": "text/x-python",
      "name": "python",
      "nbconvert_exporter": "python",
      "pygments_lexer": "ipython3",
      "version": "3.10.4"
    }
  },
  "nbformat": 4,
  "nbformat_minor": 0
}