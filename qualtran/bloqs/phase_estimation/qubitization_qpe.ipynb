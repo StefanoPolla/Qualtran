{
 "cells": [
  {
   "cell_type": "markdown",
   "id": "8a9351ad",
   "metadata": {
    "cq.autogen": "title_cell"
   },
   "source": [
    "# Qubitization Phase Estimation"
   ]
  },
  {
   "cell_type": "code",
   "execution_count": 1,
   "id": "5edd9118",
   "metadata": {
    "cq.autogen": "top_imports"
   },
   "outputs": [],
   "source": [
    "from qualtran import Bloq, CompositeBloq, BloqBuilder, Signature, Register\n",
    "from qualtran import QBit, QInt, QUInt, QAny\n",
    "from qualtran.drawing import show_bloq, show_call_graph, show_counts_sigma\n",
    "from typing import *\n",
    "import numpy as np\n",
    "import sympy\n",
    "import cirq"
   ]
  },
  {
   "cell_type": "markdown",
   "id": "6d311772",
   "metadata": {
    "cq.autogen": "QubitizationQPE.bloq_doc.md"
   },
   "source": [
    "## `QubitizationQPE`\n",
    "Heisenberg limited phase estimation circuit for learning eigenphase of `walk`.\n",
    "\n",
    "The Bloq yields an OPTREE to construct Heisenberg limited phase estimation circuit\n",
    "for learning eigenphases of the `walk` operator with `m` bits of accuracy. The\n",
    "circuit is implemented as given in Fig.2 of Ref-1.\n",
    "\n",
    "```\n",
    "       ┌─────────┐                                     ┌─────────┐\n",
    "  |0> -│         │-------------------------(0)---(0)---│         │---M--- [m1]:highest bit\n",
    "       │         │                          |     |    │         │\n",
    "  |0> -│         │----------------(0)---(0)-+-----+----│         │---M--- [m2]\n",
    "       │CtrlState│                 |     |  |     |    │ QFT_inv │\n",
    "  |0> -│  Prep   │-------(0)---(0)-+-----+--+-----+----│         │---M--- [m3]\n",
    "       │         │        |     |  |     |  |     |    │         │\n",
    "  |0> -│         │---@----+-----+--+-----+--+-----+----│         │---M--- [m4]:lowest bit\n",
    "       └─────────┘   |    |     |  |     |  |     |    └─────────┘\n",
    "|Psi> ---------------W----R-W^2-R--R-W^4-R--R-W^8-R---------------------- |Psi>\n",
    "```\n",
    "\n",
    "TODO: Note that there are slight differences between the Fig2 of the Ref[1] and the circuit\n",
    "      implemented here. Further investigation is required to reconcile the difference.\n",
    "\n",
    "#### Parameters\n",
    " - `walk`: Bloq representing the Qubitization walk operator to run the phase estimation protocol on.\n",
    " - `m_bits`: Bitsize of the phase register to be used during phase estimation.\n",
    " - `ctrl_state_prep`: Bloq to prepare the control state on the phase register. Defaults to `OnEach(self.m_bits, Hadamard())`.\n",
    " - `qft_inv`: Bloq to apply inverse QFT on the phase register. Defaults to `QFTTextBook(self.m_bits).adjoint()`  \n",
    "\n",
    "#### Registers\n",
    " - `qpe_reg`: Control register of type `QFxp(self.m_bits, self.m_bits)` for phase estimation.\n",
    " - `target registers`: All registers used in `self.unitary.signature` \n",
    "\n",
    "#### References\n",
    " - [Encoding Electronic Spectra in Quantum Circuits with Linear T Complexity](https://arxiv.org/abs/1805.03662). Fig. 2\n"
   ]
  },
  {
   "cell_type": "code",
   "execution_count": 2,
   "id": "64641b14",
   "metadata": {
    "cq.autogen": "QubitizationQPE.bloq_doc.py"
   },
   "outputs": [],
   "source": [
    "from qualtran.bloqs.phase_estimation.qubitization_qpe import QubitizationQPE"
   ]
  },
  {
   "cell_type": "markdown",
   "id": "1521d292",
   "metadata": {
    "cq.autogen": "QubitizationQPE.example_instances.md"
   },
   "source": [
    "### Example Instances"
   ]
  },
  {
   "cell_type": "code",
   "execution_count": 3,
   "id": "3521613b",
   "metadata": {
    "cq.autogen": "QubitizationQPE.qubitization_qpe_hubbard_model_small"
   },
   "outputs": [],
   "source": [
    "import numpy as np\n",
    "\n",
    "from qualtran.bloqs.hubbard_model import get_walk_operator_for_hubbard_model\n",
    "from qualtran.bloqs.phase_estimation import QubitizationQPE\n",
    "\n",
    "x_dim, y_dim, t = 2, 2, 2\n",
    "mu = 4 * t\n",
    "walk = get_walk_operator_for_hubbard_model(x_dim, y_dim, t, mu)\n",
    "\n",
    "algo_eps = t / 100\n",
    "N = x_dim * y_dim * 2\n",
    "qlambda = 2 * N * t + (N * mu) // 2\n",
    "qpe_eps = algo_eps / (qlambda * np.sqrt(2))\n",
    "qubitization_qpe_hubbard_model_small = QubitizationQPE.from_standard_deviation_eps(\n",
    "    walk, qpe_eps\n",
    ")"
   ]
  },
  {
   "cell_type": "code",
   "execution_count": 4,
   "id": "f6a6e748",
   "metadata": {
    "cq.autogen": "QubitizationQPE.qubitization_qpe_sparse_chem"
   },
   "outputs": [],
   "source": [
    "import numpy as np\n",
    "\n",
    "from qualtran.bloqs.chemistry.sparse.prepare_test import build_random_test_integrals\n",
    "from qualtran.bloqs.chemistry.sparse.walk_operator import get_walk_operator_for_sparse_chem_ham\n",
    "from qualtran.bloqs.phase_estimation import QubitizationQPE\n",
    "\n",
    "num_spatial = 6\n",
    "tpq, eris = build_random_test_integrals(num_spatial // 2)\n",
    "walk = get_walk_operator_for_sparse_chem_ham(\n",
    "    tpq, eris, num_bits_rot_aa=8, num_bits_state_prep=16\n",
    ")\n",
    "\n",
    "algo_eps = 0.0016\n",
    "qlambda = np.sum(np.abs(tpq)) + 0.5 * np.sum(np.abs(eris))\n",
    "qpe_eps = algo_eps / (qlambda * np.sqrt(2))\n",
    "qubitization_qpe_sparse_chem = QubitizationQPE.from_standard_deviation_eps(walk, qpe_eps)"
   ]
  },
  {
   "cell_type": "code",
   "execution_count": 5,
   "id": "8879e3e4",
   "metadata": {
    "cq.autogen": "QubitizationQPE.qubitization_qpe_chem_thc"
   },
   "outputs": [],
   "source": [
    "from openfermion.resource_estimates.utils import QI\n",
    "\n",
    "from qualtran.bloqs.chemistry.thc.walk_operator import get_walk_operator_for_thc_ham\n",
    "\n",
    "# Li et al parameters from openfermion.resource_estimates.thc.compute_cost_thc_test\n",
    "num_spinorb = 152\n",
    "num_bits_state_prep = 10\n",
    "num_bits_rot = 20\n",
    "thc_dim = 450\n",
    "num_spat = num_spinorb // 2\n",
    "tpq = np.random.normal(size=(num_spat, num_spat))\n",
    "tpq = 0.5 * (tpq + tpq) / 2\n",
    "zeta = np.random.normal(size=(thc_dim, thc_dim))\n",
    "zeta = 0.5 * (zeta + zeta) / 2\n",
    "qroam_blocking_factor = np.power(2, QI(thc_dim + num_spat)[0])\n",
    "walk = get_walk_operator_for_thc_ham(\n",
    "    tpq,\n",
    "    zeta,\n",
    "    num_bits_state_prep=num_bits_state_prep,\n",
    "    num_bits_theta=num_bits_rot,\n",
    "    kr1=qroam_blocking_factor,\n",
    "    kr2=qroam_blocking_factor,\n",
    ")\n",
    "\n",
    "algo_eps = 0.0016\n",
    "qlambda = 1201.5\n",
    "qpe_eps = algo_eps / (qlambda * np.sqrt(2))\n",
    "qubitization_qpe_chem_thc = QubitizationQPE.from_standard_deviation_eps(walk, qpe_eps)"
   ]
  },
  {
   "cell_type": "markdown",
   "id": "b19f9365",
   "metadata": {
    "cq.autogen": "QubitizationQPE.graphical_signature.md"
   },
   "source": [
    "#### Graphical Signature"
   ]
  },
  {
   "cell_type": "code",
   "execution_count": 6,
   "id": "82261d0a",
   "metadata": {
    "cq.autogen": "QubitizationQPE.graphical_signature.py"
   },
   "outputs": [
    {
     "data": {
      "application/vnd.jupyter.widget-view+json": {
       "model_id": "0800525f8e8c40bab9bd5cd65e5af9b2",
       "version_major": 2,
       "version_minor": 0
      },
      "text/plain": [
       "HBox(children=(Output(outputs=({'output_type': 'display_data', 'data': {'text/plain': '<IPython.core.display.M…"
      ]
     },
     "metadata": {},
     "output_type": "display_data"
    }
   ],
   "source": [
    "from qualtran.drawing import show_bloqs\n",
    "show_bloqs([qubitization_qpe_hubbard_model_small, qubitization_qpe_sparse_chem, qubitization_qpe_chem_thc],\n",
    "           ['`qubitization_qpe_hubbard_model_small`', '`qubitization_qpe_sparse_chem`', '`qubitization_qpe_chem_thc`'])"
   ]
  },
  {
   "cell_type": "markdown",
   "id": "a3597eeb",
   "metadata": {
    "cq.autogen": "QubitizationQPE.call_graph.md"
   },
   "source": [
    "### Call Graph"
   ]
  },
  {
   "cell_type": "code",
   "execution_count": 7,
   "id": "27176312",
   "metadata": {
    "cq.autogen": "QubitizationQPE.call_graph.py"
   },
   "outputs": [
    {
     "data": {
      "image/svg+xml": [
       "<svg xmlns=\"http://www.w3.org/2000/svg\" xmlns:xlink=\"http://www.w3.org/1999/xlink\" width=\"1610pt\" height=\"133pt\" viewBox=\"0.00 0.00 1609.50 132.50\">\n",
       "<g id=\"graph0\" class=\"graph\" transform=\"scale(1 1) rotate(0) translate(4 128.5)\">\n",
       "<title>counts</title>\n",
       "<polygon fill=\"white\" stroke=\"none\" points=\"-4,4 -4,-128.5 1605.5,-128.5 1605.5,4 -4,4\"/>\n",
       "<!-- b0 -->\n",
       "<g id=\"node1\" class=\"node\">\n",
       "<title>b0</title>\n",
       "<polygon fill=\"none\" stroke=\"black\" points=\"1164,-124.5 668,-124.5 668,-88.5 1164,-88.5 1164,-124.5\"/>\n",
       "<text text-anchor=\"start\" x=\"858.25\" y=\"-106.2\" font-family=\"Times,serif\" font-size=\"14.00\">QubitizationQPE[14]</text>\n",
       "<text text-anchor=\"start\" x=\"676\" y=\"-96\" font-family=\"monospace\" font-size=\"10.00\">walk=Qubitiza ..., m_bits=14, ctrl_state_prep=LPResour ..., qft_inv=Adjoint( ...</text>\n",
       "</g>\n",
       "<!-- b1 -->\n",
       "<g id=\"node2\" class=\"node\">\n",
       "<title>b1</title>\n",
       "<polygon fill=\"none\" stroke=\"black\" points=\"358,-36 0,-36 0,0 358,0 358,-36\"/>\n",
       "<text text-anchor=\"start\" x=\"114.12\" y=\"-17.7\" font-family=\"Times,serif\" font-size=\"14.00\">ReflectionUsingPrepare</text>\n",
       "<text text-anchor=\"start\" x=\"8\" y=\"-7.5\" font-family=\"monospace\" font-size=\"10.00\">prepare_gate=PrepareH ..., control_val=0, global_phase=-1</text>\n",
       "</g>\n",
       "<!-- b0&#45;&gt;b1 -->\n",
       "<g id=\"edge1\" class=\"edge\">\n",
       "<title>b0-&gt;b1</title>\n",
       "<path fill=\"none\" stroke=\"black\" d=\"M767.3,-88.05C643.22,-73.48 466.74,-52.77 339.49,-37.84\"/>\n",
       "<polygon fill=\"black\" stroke=\"black\" points=\"339.94,-34.37 329.6,-36.68 339.13,-41.32 339.94,-34.37\"/>\n",
       "<text text-anchor=\"middle\" x=\"620.75\" y=\"-57.2\" font-family=\"Times,serif\" font-size=\"14.00\">26</text>\n",
       "</g>\n",
       "<!-- b2 -->\n",
       "<g id=\"node3\" class=\"node\">\n",
       "<title>b2</title>\n",
       "<polygon fill=\"none\" stroke=\"black\" points=\"830,-36 376,-36 376,0 830,0 830,-36\"/>\n",
       "<text text-anchor=\"start\" x=\"530.62\" y=\"-17.7\" font-family=\"Times,serif\" font-size=\"14.00\">QubitizationWalkOperator</text>\n",
       "<text text-anchor=\"start\" x=\"384\" y=\"-7.5\" font-family=\"monospace\" font-size=\"10.00\">select=SelectHu ..., prepare=PrepareH ..., control_val=1, uncompute=False</text>\n",
       "</g>\n",
       "<!-- b0&#45;&gt;b2 -->\n",
       "<g id=\"edge2\" class=\"edge\">\n",
       "<title>b0-&gt;b2</title>\n",
       "<path fill=\"none\" stroke=\"black\" d=\"M853.04,-88.1C802.18,-74.05 730.51,-54.24 676.93,-39.43\"/>\n",
       "<polygon fill=\"black\" stroke=\"black\" points=\"678.16,-36.14 667.59,-36.85 676.3,-42.89 678.16,-36.14\"/>\n",
       "<text text-anchor=\"middle\" x=\"791.38\" y=\"-57.2\" font-family=\"Times,serif\" font-size=\"14.00\">1</text>\n",
       "</g>\n",
       "<!-- b3 -->\n",
       "<g id=\"node4\" class=\"node\">\n",
       "<title>b3</title>\n",
       "<polygon fill=\"none\" stroke=\"black\" points=\"984,-36 848,-36 848,0 984,0 984,-36\"/>\n",
       "<text text-anchor=\"start\" x=\"872.88\" y=\"-17.7\" font-family=\"Times,serif\" font-size=\"14.00\">QFTTextBook†</text>\n",
       "<text text-anchor=\"start\" x=\"856\" y=\"-7.5\" font-family=\"monospace\" font-size=\"10.00\">subbloq=QFTTextB ...</text>\n",
       "</g>\n",
       "<!-- b0&#45;&gt;b3 -->\n",
       "<g id=\"edge3\" class=\"edge\">\n",
       "<title>b0-&gt;b3</title>\n",
       "<path fill=\"none\" stroke=\"black\" d=\"M916,-88.41C916,-76.76 916,-61.05 916,-47.52\"/>\n",
       "<polygon fill=\"black\" stroke=\"black\" points=\"919.5,-47.86 916,-37.86 912.5,-47.86 919.5,-47.86\"/>\n",
       "<text text-anchor=\"middle\" x=\"919.38\" y=\"-57.2\" font-family=\"Times,serif\" font-size=\"14.00\">1</text>\n",
       "</g>\n",
       "<!-- b4 -->\n",
       "<g id=\"node5\" class=\"node\">\n",
       "<title>b4</title>\n",
       "<polygon fill=\"none\" stroke=\"black\" points=\"1474,-36 1002,-36 1002,0 1474,0 1474,-36\"/>\n",
       "<text text-anchor=\"start\" x=\"1165.62\" y=\"-17.7\" font-family=\"Times,serif\" font-size=\"14.00\">QubitizationWalkOperator</text>\n",
       "<text text-anchor=\"start\" x=\"1010\" y=\"-7.5\" font-family=\"monospace\" font-size=\"10.00\">select=SelectHu ..., prepare=PrepareH ..., control_val=None, uncompute=False</text>\n",
       "</g>\n",
       "<!-- b0&#45;&gt;b4 -->\n",
       "<g id=\"edge4\" class=\"edge\">\n",
       "<title>b0-&gt;b4</title>\n",
       "<path fill=\"none\" stroke=\"black\" d=\"M980.77,-88.1C1033.09,-74.05 1106.82,-54.24 1161.94,-39.43\"/>\n",
       "<polygon fill=\"black\" stroke=\"black\" points=\"1162.84,-42.81 1171.59,-36.84 1161.03,-36.05 1162.84,-42.81\"/>\n",
       "<text text-anchor=\"middle\" x=\"1122.88\" y=\"-57.2\" font-family=\"Times,serif\" font-size=\"14.00\">16382</text>\n",
       "</g>\n",
       "<!-- b5 -->\n",
       "<g id=\"node6\" class=\"node\">\n",
       "<title>b5</title>\n",
       "<polygon fill=\"none\" stroke=\"black\" points=\"1601.5,-36 1492.5,-36 1492.5,0 1601.5,0 1601.5,-36\"/>\n",
       "<text text-anchor=\"start\" x=\"1500.5\" y=\"-17.7\" font-family=\"Times,serif\" font-size=\"14.00\">LPResourceState</text>\n",
       "<text text-anchor=\"start\" x=\"1517\" y=\"-7.5\" font-family=\"monospace\" font-size=\"10.00\">bitsize=14</text>\n",
       "</g>\n",
       "<!-- b0&#45;&gt;b5 -->\n",
       "<g id=\"edge5\" class=\"edge\">\n",
       "<title>b0-&gt;b5</title>\n",
       "<path fill=\"none\" stroke=\"black\" d=\"M1113.52,-88.03C1219.87,-76.99 1353.36,-60.5 1481.14,-36.2\"/>\n",
       "<polygon fill=\"black\" stroke=\"black\" points=\"1481.66,-39.67 1490.82,-34.35 1480.33,-32.8 1481.66,-39.67\"/>\n",
       "<text text-anchor=\"middle\" x=\"1379.38\" y=\"-57.2\" font-family=\"Times,serif\" font-size=\"14.00\">1</text>\n",
       "</g>\n",
       "</g>\n",
       "</svg>"
      ],
      "text/plain": [
       "<IPython.core.display.SVG object>"
      ]
     },
     "metadata": {},
     "output_type": "display_data"
    },
    {
     "data": {
      "text/markdown": [
       "#### Counts totals:\n",
       " - `Adjoint(subbloq=QFTTextBook(bitsize=14, with_reverse=True))`: 1\n",
       " - `LPResourceState(bitsize=14)`: 1\n",
       " - `QubitizationWalkOperator(select=SelectHubbard(x_dim=2, y_dim=2, control_val=1), prepare=PrepareHubbard(x_dim=2, y_dim=2, t=2, mu=8), control_val=1, uncompute=False)`: 1\n",
       " - `QubitizationWalkOperator(select=SelectHubbard(x_dim=2, y_dim=2, control_val=None), prepare=PrepareHubbard(x_dim=2, y_dim=2, t=2, mu=8), control_val=None, uncompute=False)`: 16382\n",
       " - `ReflectionUsingPrepare(prepare_gate=PrepareHubbard(x_dim=2, y_dim=2, t=2, mu=8), control_val=0, global_phase=-1)`: 26"
      ],
      "text/plain": [
       "<IPython.core.display.Markdown object>"
      ]
     },
     "metadata": {},
     "output_type": "display_data"
    }
   ],
   "source": [
    "from qualtran.resource_counting.generalizers import ignore_split_join\n",
    "qubitization_qpe_hubbard_model_small_g, qubitization_qpe_hubbard_model_small_sigma = qubitization_qpe_hubbard_model_small.call_graph(max_depth=1, generalizer=ignore_split_join)\n",
    "show_call_graph(qubitization_qpe_hubbard_model_small_g)\n",
    "show_counts_sigma(qubitization_qpe_hubbard_model_small_sigma)"
   ]
  }
 ],
 "metadata": {
  "kernelspec": {
   "display_name": "Python 3",
   "language": "python",
   "name": "python3"
  },
  "language_info": {
   "codemirror_mode": {
    "name": "ipython",
    "version": 3
   },
   "file_extension": ".py",
   "mimetype": "text/x-python",
   "name": "python",
   "nbconvert_exporter": "python",
   "pygments_lexer": "ipython3",
   "version": "3.10.14"
  }
 },
 "nbformat": 4,
 "nbformat_minor": 5
}
